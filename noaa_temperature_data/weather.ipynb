{
 "cells": [
  {
   "cell_type": "code",
   "execution_count": 1,
   "id": "1042c723",
   "metadata": {},
   "outputs": [
    {
     "name": "stdout",
     "output_type": "stream",
     "text": [
      "{'coords': (13569, 2),\n",
      " 'names': (13569,),\n",
      " 'start_idxs': (13569,),\n",
      " 'temperatures': (127543331,),\n",
      " 'timestamps': (127543331,)}\n",
      "CPU times: user 1.94 s, sys: 483 ms, total: 2.42 s\n",
      "Wall time: 2.43 s\n"
     ]
    }
   ],
   "source": [
    "%%time\n",
    "\n",
    "# First run gen_temperature_dat.py to generate test.npz.\n",
    "\n",
    "import pprint\n",
    "\n",
    "import numpy as np\n",
    "\n",
    "A = np.load('test.npz')\n",
    "names = A['names']\n",
    "coords = A['coords']  # Currently unused\n",
    "X = A['timestamps']\n",
    "Y = A['temperatures']\n",
    "start_idxs = A['start_idxs']\n",
    "\n",
    "pprint.pprint({key: val.shape for key, val in A.items()})"
   ]
  },
  {
   "cell_type": "code",
   "execution_count": null,
   "id": "8dc5f4b1",
   "metadata": {},
   "outputs": [],
   "source": [
    "import croquis\n",
    "\n",
    "fig = croquis.plot()\n",
    "fig.add(X, Y, start_idxs=start_idxs, labels=names, line_width=1, marker_size=0)\n",
    "fig.show()"
   ]
  }
 ],
 "metadata": {
  "kernelspec": {
   "display_name": "Python 3",
   "language": "python",
   "name": "python3"
  },
  "language_info": {
   "codemirror_mode": {
    "name": "ipython",
    "version": 3
   },
   "file_extension": ".py",
   "mimetype": "text/x-python",
   "name": "python",
   "nbconvert_exporter": "python",
   "pygments_lexer": "ipython3",
   "version": "3.9.5"
  }
 },
 "nbformat": 4,
 "nbformat_minor": 5
}
